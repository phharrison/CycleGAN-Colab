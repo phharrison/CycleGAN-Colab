{
  "nbformat": 4,
  "nbformat_minor": 0,
  "metadata": {
    "colab": {
      "name": "pix2pix_train_colab.ipynb",
      "provenance": [],
      "collapsed_sections": [],
      "toc_visible": true
    },
    "kernelspec": {
      "name": "python3",
      "display_name": "Python 3"
    },
    "accelerator": "GPU"
  },
  "cells": [
    {
      "cell_type": "markdown",
      "metadata": {
        "id": "7wNjDKdQy35h"
      },
      "source": [
        "# Install\n",
        "\n",
        "Run these commands first. If you recieve a prompt asking you to restart the model, make sure to do so. "
      ]
    },
    {
      "cell_type": "code",
      "metadata": {
        "id": "TRm-USlsHgEV"
      },
      "source": [
        "!git clone https://github.com/junyanz/pytorch-CycleGAN-and-pix2pix"
      ],
      "execution_count": null,
      "outputs": []
    },
    {
      "cell_type": "code",
      "metadata": {
        "id": "Pt3igws3eiVp"
      },
      "source": [
        "import os\n",
        "os.chdir('pytorch-CycleGAN-and-pix2pix/')"
      ],
      "execution_count": null,
      "outputs": []
    },
    {
      "cell_type": "code",
      "metadata": {
        "id": "z1EySlOXwwoa"
      },
      "source": [
        "!pip install -r requirements.txt"
      ],
      "execution_count": null,
      "outputs": []
    },
    {
      "cell_type": "markdown",
      "metadata": {
        "id": "8daqlgVhw29P"
      },
      "source": [
        "# Dataset\n",
        "\n",
        "Place your images into the `pix2pix_dataset` template folder using the following scheme: in `/pix2pix_dataset/A/train`, put training images in your input style. In `/pix2pix_dataset/B/train`, put the corresponding images in your output style. Place images that you want to convert from A to B into BOTH `/pix2pix_dataset/A/test` and `/pix2pix_dataset/B/test`. \n",
        "\n",
        "Technically, the `/pix2pix_dataset/B/test` directory is intended to allow you to compare the fake outputs of B to a real set of outputs, but you will not always have a real B to compare to the fake B. The notebook will not run without having images in `/pix2pix_dataset/B/test`, so copying the images you'd like to convert from `/pix2pix_dataset/A/test` to `/pix2pix_dataset/B/test` is a good workaround. \n",
        "\n",
        "Corresponding images in a pair {A,B} must be the same size and have the same filename, e.g., `/pix2pix_dataset/A/train/1.jpg` is considered to correspond to `/pix2pix_dataset/B/train/1.jpg`.\n",
        "\n",
        "Once you have the images in the correct folders, zip the the `pix2pix_dataset` folder and upload the zipped file using the next cell:\n",
        "\n"
      ]
    },
    {
      "cell_type": "code",
      "metadata": {
        "id": "RRNpheibNL49"
      },
      "source": [
        "from google.colab import files\r\n",
        "\r\n",
        "uploaded = files.upload()"
      ],
      "execution_count": null,
      "outputs": []
    },
    {
      "cell_type": "markdown",
      "metadata": {
        "id": "CoSAlnwxORYa"
      },
      "source": [
        "Next, we'll unzip the folder to the `/datasets/` directory:"
      ]
    },
    {
      "cell_type": "code",
      "metadata": {
        "id": "KV28O3cYlXrH"
      },
      "source": [
        "!unzip ./pix2pix_dataset.zip -d ./datasets/"
      ],
      "execution_count": null,
      "outputs": []
    },
    {
      "cell_type": "markdown",
      "metadata": {
        "id": "fwz5dH9zxt9J"
      },
      "source": [
        "# Pairing the Dataset\n",
        "\n",
        "Run the next command to combine each pair of images (A,B) into a single image file, ready for training."
      ]
    },
    {
      "cell_type": "code",
      "metadata": {
        "id": "_8PBaRfDyr8P"
      },
      "source": [
        "!python datasets/combine_A_and_B.py --fold_A ./datasets/pix2pix_dataset/A/ --fold_B ./datasets/pix2pix_dataset/B/ --fold_AB ./datasets/pix2pix_dataset/"
      ],
      "execution_count": null,
      "outputs": []
    },
    {
      "cell_type": "markdown",
      "metadata": {
        "id": "yFw1kDQBx3LN"
      },
      "source": [
        "# Training\n",
        "\n",
        "Run this cell to start training pix2pix on your combined images. You may see a number of `Cannot assign requested address` errors to begin the command, which are the result of running PyTorch in Google Colab. You can ignore the errors and should see the training epochs start to appear.\n",
        "\n",
        "The model will save itself every 5 epochs. You can stop it at any time by pressing the 'stop' button (if that doesn't work, try right-clicking on the button and interrupting the execution), but more training will result in a better-performing model. \n",
        "\n",
        "\n",
        "\n"
      ]
    },
    {
      "cell_type": "code",
      "metadata": {
        "id": "0sp7TCT2x9dB"
      },
      "source": [
        "!python train.py --dataroot ./datasets/pix2pix_dataset/ --name pix2pix_dataset --model pix2pix --direction AtoB --checkpoints_dir checkpoints_2"
      ],
      "execution_count": null,
      "outputs": []
    },
    {
      "cell_type": "markdown",
      "metadata": {
        "id": "9UkcaFZiyASl"
      },
      "source": [
        "# Testing\n",
        "\n",
        "This cell will convert the images that you put in the `/pix2pix_dataset/A/test` directory from style A to style B. "
      ]
    },
    {
      "cell_type": "code",
      "metadata": {
        "id": "uCsKkEq0yGh0"
      },
      "source": [
        "!python test.py --dataroot ./datasets/pix2pix_dataset/ --direction AtoB --model pix2pix --name pix2pix_dataset --checkpoints_dir checkpoints_2"
      ],
      "execution_count": null,
      "outputs": []
    },
    {
      "cell_type": "markdown",
      "metadata": {
        "id": "OzSKIPUByfiN"
      },
      "source": [
        "# Visualize"
      ]
    },
    {
      "cell_type": "markdown",
      "metadata": {
        "id": "Wd-rii-uRAtH"
      },
      "source": [
        "This will display a sample output from your neural network:"
      ]
    },
    {
      "cell_type": "code",
      "metadata": {
        "id": "CURWx384QUzi"
      },
      "source": [
        "import matplotlib.pyplot as plt\r\n",
        "\r\n",
        "img = plt.imread('./results/pix2pix_dataset/test_latest/images/0_fake_B.png')\r\n",
        "plt.imshow(img)"
      ],
      "execution_count": null,
      "outputs": []
    },
    {
      "cell_type": "markdown",
      "metadata": {
        "id": "8ZGaXUg8Sl12"
      },
      "source": [
        "You can run this cell to see the corresponding input image:"
      ]
    },
    {
      "cell_type": "code",
      "metadata": {
        "id": "i6kUGyC5Ssnl"
      },
      "source": [
        "import matplotlib.pyplot as plt\r\n",
        "\r\n",
        "img = plt.imread('./results/pix2pix_dataset/test_latest/images/0_real_A.png')\r\n",
        "plt.imshow(img)"
      ],
      "execution_count": null,
      "outputs": []
    },
    {
      "cell_type": "markdown",
      "metadata": {
        "id": "oXwGwOpdMk0Y"
      },
      "source": [
        "# Download\r\n",
        "First, compress the results folder:"
      ]
    },
    {
      "cell_type": "code",
      "metadata": {
        "id": "9IgSkdh-jig8"
      },
      "source": [
        "!zip -r ./results.zip ./results/"
      ],
      "execution_count": null,
      "outputs": []
    },
    {
      "cell_type": "markdown",
      "metadata": {
        "id": "2SaU34TCM-kS"
      },
      "source": [
        "Next, download that folder to your computer:"
      ]
    },
    {
      "cell_type": "code",
      "metadata": {
        "id": "6_KmWeeZMnWi"
      },
      "source": [
        "from google.colab import files\r\n",
        "\r\n",
        "files.download('./results.zip')"
      ],
      "execution_count": null,
      "outputs": []
    }
  ]
}